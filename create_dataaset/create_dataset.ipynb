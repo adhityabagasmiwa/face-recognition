{
  "cells": [
    {
      "cell_type": "code",
      "execution_count": null,
      "metadata": {
        "colab": {
          "base_uri": "https://localhost:8080/"
        },
        "id": "jRq4Af5B4YMb",
        "outputId": "d113cef4-37ee-4e38-c21a-90b42e09faa0"
      },
      "outputs": [],
      "source": [
        "# mount google drive\n",
        "from google.colab import drive\n",
        "drive.mount('/content/drive')"
      ]
    },
    {
      "cell_type": "code",
      "execution_count": null,
      "metadata": {
        "colab": {
          "base_uri": "https://localhost:8080/"
        },
        "id": "0E84ntE_npq7",
        "outputId": "30c29ae6-34dc-4698-f2c8-314fbf7b08cc"
      },
      "outputs": [],
      "source": [
        "!pip install mtcnn"
      ]
    },
    {
      "cell_type": "code",
      "execution_count": null,
      "metadata": {
        "colab": {
          "base_uri": "https://localhost:8080/"
        },
        "id": "P-gIkILk4tel",
        "outputId": "a12fde68-74e0-4e49-ad35-1f7bbbc7ec46"
      },
      "outputs": [],
      "source": [
        "import numpy as np\n",
        "import os\n",
        "import shutil\n",
        "from mtcnn import MTCNN\n",
        "import cv2"
      ]
    },
    {
      "cell_type": "markdown",
      "metadata": {
        "id": "YVu2J3kpzEjj"
      },
      "source": [
        "**MTCNN Augmentation**"
      ]
    },
    {
      "cell_type": "code",
      "execution_count": null,
      "metadata": {
        "id": "CPowSHWMoTXF"
      },
      "outputs": [],
      "source": [
        "def crop_image(img): \n",
        "    data=detector.detect_faces(img)\n",
        "    # y=box[1] h=box[3] x=box[0] w=box[2]   \n",
        "    biggest=0\n",
        "    if data !=[]:\n",
        "        for faces in data:\n",
        "            box=faces['box']            \n",
        "            # calculate the area in the image\n",
        "            area = box[3]  * box[2]\n",
        "            if area>biggest:\n",
        "                biggest=area\n",
        "                bbox=box \n",
        "        bbox[0]= 0 if bbox[0]<0 else bbox[0]\n",
        "        bbox[1]= 0 if bbox[1]<0 else bbox[1]\n",
        "        img=img[bbox[1]: bbox[1]+bbox[3],bbox[0]: bbox[0]+ bbox[2]]        \n",
        "        return (True, img) \n",
        "    else:\n",
        "        return (False, None)\n",
        "\n",
        "def rotate_bound(image, angle):\n",
        "    #rotates an image by the degree angle\n",
        "    #grab the dimensions of the image and then determine the center\n",
        "    (h, w) = image.shape[:2]\n",
        "    (cX, cY) = (w // 2, h // 2)\n",
        "    #grab the rotation matrix (applying the angle to rotate clockwise), then grab the sine and cosine\n",
        "    #(i.e., the rotation components of the matrix)\n",
        "    M = cv2.getRotationMatrix2D((cX, cY), angle, 1.0)\n",
        "    cos = np.abs(M[0, 0])\n",
        "    sin = np.abs(M[0, 1]) \n",
        "    #compute the new bounding dimensions of the image\n",
        "    nW = int((h * sin) + (w * cos))\n",
        "    nH = int((h * cos) + (w * sin)) \n",
        "    #adjust the rotation matrix to take into account translation\n",
        "    M[0, 2] += (nW / 2) - cX\n",
        "    M[1, 2] += (nH / 2) - cY \n",
        "    #perform the actual rotation and return the image\n",
        "    return cv2.warpAffine(image, M, (nW, nH)) "
      ]
    },
    {
      "cell_type": "code",
      "execution_count": null,
      "metadata": {
        "id": "R4WR1V9VrH6g"
      },
      "outputs": [],
      "source": [
        "def align(img):\n",
        "    #This function takes in an image, detects the bounding boxes for the face or faces\n",
        "    #in the image and then selects the face with the largest number of pixels.\n",
        "    #for the largest face the eye centers are detected and the angle of the eyes with respect to\n",
        "    #the horizontal axis is determined. It then provides this angle to the rotate_bound function\n",
        "    #the rotate_bound function the rotates the image so the eyes are parallel to the horizontal axis\n",
        "        \n",
        "    data=detector.detect_faces(img)\n",
        "    #In case the image has more than 1 face, find the biggest face\n",
        "    biggest=0\n",
        "    if data !=[]:\n",
        "        for faces in data:\n",
        "            box=faces['box']            \n",
        "            # calculate the area in the image\n",
        "            area = box[3]  * box[2]\n",
        "            if area>biggest:\n",
        "                biggest=area\n",
        "                bbox=box                \n",
        "                keypoints=faces['keypoints']\n",
        "                left_eye=keypoints['left_eye']\n",
        "                right_eye=keypoints['right_eye']                 \n",
        "        lx,ly=left_eye        \n",
        "        rx,ry=right_eye\n",
        "        dx=rx-lx\n",
        "        dy=ry-ly\n",
        "        tan=dy/dx\n",
        "        theta=np.arctan(tan)\n",
        "        theta=np.degrees(theta)    \n",
        "        img=rotate_bound(img, theta)        \n",
        "        return (True,img)\n",
        "    else:\n",
        "        return (False, None)"
      ]
    },
    {
      "cell_type": "code",
      "execution_count": null,
      "metadata": {
        "id": "UQSha4c8ohNw"
      },
      "outputs": [],
      "source": [
        "def align_crop_resize(sdir, dest_dir, path_dir, height=None, width= None): \n",
        "    cropped_dir=os.path.join(dest_dir, path_dir)\n",
        "    if os.path.isdir(dest_dir):\n",
        "        shutil.rmtree(dest_dir)\n",
        "    os.mkdir(dest_dir)  #start with an empty destination directory\n",
        "    os.mkdir(cropped_dir)\n",
        "    flist=os.listdir(sdir) #get a list of the image files    \n",
        "    success_count=0\n",
        "    print('Start align and crop image....')\n",
        "    for i,f in enumerate(flist): # iterate through the image files\n",
        "        fpath=os.path.join(sdir,f)        \n",
        "        if os.path.isfile(fpath) and i < 100: #if necessary, change value total image e.g 1000\n",
        "            try:\n",
        "                img=cv2.imread(fpath) #read in the image\n",
        "                shape=img.shape\n",
        "                status,img=align(img) #rotates the image for the eyes are horizontal\n",
        "                if status:            \n",
        "                    cstatus, img=crop_image(img) #crops the aligned image to return the largest face\n",
        "                    if cstatus:\n",
        "                        if height != None and width !=None:\n",
        "                            img=cv2.resize(img, (height, width)) #if height annd width are specified resize the image\n",
        "                        cropped_path=os.path.join(cropped_dir, f)\n",
        "                        cv2.imwrite(cropped_path, img) #save the image\n",
        "                        success_count +=1 #update the coount of successful processed images\n",
        "                \n",
        "            except:\n",
        "                print('file ', fpath, ' is a bad image file')\n",
        "    return success_count"
      ]
    },
    {
      "cell_type": "code",
      "execution_count": null,
      "metadata": {
        "colab": {
          "base_uri": "https://localhost:8080/",
          "height": 339
        },
        "id": "RgNfWpLoobFW",
        "outputId": "7d8b2b76-8625-4413-ffd7-7e623e4b2ecb"
      },
      "outputs": [],
      "source": [
        "#output dir, change as needed\n",
        "output_dir = '/content/drive/MyDrive/output dir'\n",
        "\n",
        "detector = MTCNN()\n",
        "#input dir, change as needed\n",
        "sdir=r'/content/drive/MyDrive/input_dir'\n",
        "working_dir=r'./'\n",
        "#init output dir\n",
        "dest_dir=os.path.join(working_dir, output_dir)\n",
        "#change width & height as needed\n",
        "width=256\n",
        "height=256\n",
        "#prefix dir, change as needed, e.g name of the person\n",
        "prefix_dir='John Doe'\n",
        "#start create dataset\n",
        "count=align_crop_resize(sdir, dest_dir, prefix_dir)\n",
        "print ('Number of sucessfully processed images= ', count)"
      ]
    }
  ],
  "metadata": {
    "accelerator": "GPU",
    "colab": {
      "collapsed_sections": [],
      "name": "Face Recognition CNN.ipynb",
      "provenance": []
    },
    "kernelspec": {
      "display_name": "Python 3",
      "name": "python3"
    },
    "language_info": {
      "name": "python"
    }
  },
  "nbformat": 4,
  "nbformat_minor": 0
}
